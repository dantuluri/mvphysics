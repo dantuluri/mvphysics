{
 "cells": [
  {
   "cell_type": "code",
   "execution_count": 11,
   "metadata": {},
   "outputs": [
    {
     "name": "stdout",
     "output_type": "stream",
     "text": [
      "<scipy.stats._distn_infrastructure.rv_frozen object at 0x1144d9240>\n"
     ]
    },
    {
     "ename": "TypeError",
     "evalue": "'rv_frozen' object does not support indexing",
     "output_type": "error",
     "traceback": [
      "\u001b[0;31m---------------------------------------------------------------------------\u001b[0m",
      "\u001b[0;31mTypeError\u001b[0m                                 Traceback (most recent call last)",
      "\u001b[0;32m<ipython-input-11-1c9ce787d85c>\u001b[0m in \u001b[0;36m<module>\u001b[0;34m()\u001b[0m\n\u001b[1;32m     22\u001b[0m \u001b[0;34m\u001b[0m\u001b[0m\n\u001b[1;32m     23\u001b[0m \u001b[0;32mfor\u001b[0m \u001b[0mxin\u001b[0m \u001b[0;32min\u001b[0m \u001b[0mrange\u001b[0m\u001b[0;34m(\u001b[0m\u001b[0;36m0\u001b[0m\u001b[0;34m,\u001b[0m\u001b[0;36m160\u001b[0m\u001b[0;34m,\u001b[0m\u001b[0;36m1\u001b[0m\u001b[0;34m)\u001b[0m\u001b[0;34m:\u001b[0m\u001b[0;34m\u001b[0m\u001b[0m\n\u001b[0;32m---> 24\u001b[0;31m     \u001b[0myin\u001b[0m\u001b[0;34m=\u001b[0m\u001b[0mfunc\u001b[0m\u001b[0;34m(\u001b[0m\u001b[0mxin\u001b[0m\u001b[0;34m)\u001b[0m\u001b[0;34m\u001b[0m\u001b[0m\n\u001b[0m\u001b[1;32m     25\u001b[0m     \u001b[0ma\u001b[0m\u001b[0;34m.\u001b[0m\u001b[0mappend\u001b[0m\u001b[0;34m(\u001b[0m\u001b[0mxin\u001b[0m\u001b[0;34m)\u001b[0m\u001b[0;34m\u001b[0m\u001b[0m\n\u001b[1;32m     26\u001b[0m     \u001b[0mb\u001b[0m\u001b[0;34m.\u001b[0m\u001b[0mappend\u001b[0m\u001b[0;34m(\u001b[0m\u001b[0myin\u001b[0m\u001b[0;34m)\u001b[0m\u001b[0;34m\u001b[0m\u001b[0m\n",
      "\u001b[0;32m<ipython-input-11-1c9ce787d85c>\u001b[0m in \u001b[0;36mfunc\u001b[0;34m(xa)\u001b[0m\n\u001b[1;32m     16\u001b[0m \u001b[0;34m\u001b[0m\u001b[0m\n\u001b[1;32m     17\u001b[0m \u001b[0;32mdef\u001b[0m \u001b[0mfunc\u001b[0m\u001b[0;34m(\u001b[0m\u001b[0mxa\u001b[0m\u001b[0;34m)\u001b[0m\u001b[0;34m:\u001b[0m\u001b[0;34m\u001b[0m\u001b[0m\n\u001b[0;32m---> 18\u001b[0;31m     \u001b[0;32mreturn\u001b[0m \u001b[0mz\u001b[0m\u001b[0;34m[\u001b[0m\u001b[0;36m0\u001b[0m\u001b[0;34m]\u001b[0m\u001b[0;34m*\u001b[0m\u001b[0mxa\u001b[0m\u001b[0;34m**\u001b[0m\u001b[0;36m2\u001b[0m\u001b[0;34m+\u001b[0m\u001b[0mz\u001b[0m\u001b[0;34m[\u001b[0m\u001b[0;36m1\u001b[0m\u001b[0;34m]\u001b[0m\u001b[0;34m*\u001b[0m\u001b[0mxa\u001b[0m\u001b[0;34m+\u001b[0m\u001b[0mz\u001b[0m\u001b[0;34m[\u001b[0m\u001b[0;36m2\u001b[0m\u001b[0;34m]\u001b[0m\u001b[0;34m\u001b[0m\u001b[0m\n\u001b[0m\u001b[1;32m     19\u001b[0m \u001b[0;34m\u001b[0m\u001b[0m\n\u001b[1;32m     20\u001b[0m \u001b[0ma\u001b[0m\u001b[0;34m=\u001b[0m\u001b[0;34m[\u001b[0m\u001b[0;34m]\u001b[0m\u001b[0;34m\u001b[0m\u001b[0m\n",
      "\u001b[0;31mTypeError\u001b[0m: 'rv_frozen' object does not support indexing"
     ]
    },
    {
     "data": {
      "image/png": "[encoded data removed]",
      "text/plain": [
       "<Figure size 432x288 with 1 Axes>"
      ]
     },
     "metadata": {},
     "output_type": "display_data"
    }
   ],
   "source": [
    "import matplotlib.pyplot as plt\n",
    "import matplotlib.patches as mpatches\n",
    "import numpy as np\n",
    "from scipy.stats import powerlaw\n",
    "\n",
    "x = [25,50,75,100,125]\n",
    "y = [1.01,1.4,1.75,2.0,2.27]\n",
    "plt.plot(x,y, 'ro')\n",
    "plt.axis([0, 160,0,2.5])\n",
    "\n",
    "z = np.polyfit(x, y, 2)\n",
    "z = powerlaw(y)\n",
    "f = np.poly1d(z)\n",
    "print(z)\n",
    "\n",
    "\n",
    "def func(xa):\n",
    "    return z[0]*xa**2+z[1]*xa+z[2]\n",
    "\n",
    "a=[]\n",
    "b=[]\n",
    "\n",
    "for xin in range(0,160,1):\n",
    "    yin=func(xin)\n",
    "    a.append(xin)\n",
    "    b.append(yin)\n",
    "    \n",
    "\n",
    "# calculate new x's and y's\n",
    "x_new = np.linspace(x[0], x[-1])\n",
    "y_new = f(x_new)\n",
    "\n",
    "plt.plot(x,y,'ro')\n",
    "plt.plot(a,b)\n",
    "\n",
    "function_string = 'y = '+str(round(z[0],6))+'x^2 + '+str(round(z[1],6))+'x + '+str(round(z[2],6))\n",
    "\n",
    "\n",
    "\n",
    "red_patch = mpatches.Patch(color='red', label=function_string)\n",
    "plt.legend(handles=[red_patch])\n",
    "\n",
    "plt.show()\n"
   ]
  },
  {
   "cell_type": "code",
   "execution_count": 46,
   "metadata": {},
   "outputs": [
    {
     "ename": "NameError",
     "evalue": "name 'pl' is not defined",
     "output_type": "error",
     "traceback": [
      "\u001b[0;31m---------------------------------------------------------------------------\u001b[0m",
      "\u001b[0;31mNameError\u001b[0m                                 Traceback (most recent call last)",
      "\u001b[0;32m<ipython-input-46-90fb0df8c348>\u001b[0m in \u001b[0;36m<module>\u001b[0;34m()\u001b[0m\n\u001b[1;32m      5\u001b[0m \u001b[0;34m\u001b[0m\u001b[0m\n\u001b[1;32m      6\u001b[0m \u001b[0;34m\u001b[0m\u001b[0m\n\u001b[0;32m----> 7\u001b[0;31m \u001b[0mnoisy_z\u001b[0m \u001b[0;34m=\u001b[0m \u001b[0mz\u001b[0m \u001b[0;34m+\u001b[0m \u001b[0mpl\u001b[0m\u001b[0;34m.\u001b[0m\u001b[0mrandn\u001b[0m\u001b[0;34m(\u001b[0m\u001b[0mz\u001b[0m\u001b[0;34m.\u001b[0m\u001b[0msize\u001b[0m\u001b[0;34m)\u001b[0m\u001b[0;34m*\u001b[0m\u001b[0;36m10\u001b[0m\u001b[0;34m\u001b[0m\u001b[0m\n\u001b[0m\u001b[1;32m      8\u001b[0m \u001b[0mpl\u001b[0m\u001b[0;34m.\u001b[0m\u001b[0mclf\u001b[0m\u001b[0;34m(\u001b[0m\u001b[0;34m)\u001b[0m\u001b[0;34m\u001b[0m\u001b[0m\n\u001b[1;32m      9\u001b[0m \u001b[0mpl\u001b[0m\u001b[0;34m.\u001b[0m\u001b[0mplot\u001b[0m\u001b[0;34m(\u001b[0m\u001b[0mt\u001b[0m\u001b[0;34m,\u001b[0m\u001b[0mz\u001b[0m\u001b[0;34m)\u001b[0m\u001b[0;34m\u001b[0m\u001b[0m\n",
      "\u001b[0;31mNameError\u001b[0m: name 'pl' is not defined"
     ]
    }
   ],
   "source": [
    "import numpy as np\n",
    "import pandas as pd\n",
    "import matplotlib.pyplot as plt\n",
    "from scipy.optimize import curve_fit\n",
    "\n",
    "\n",
    "noisy_z = z + pl.randn(z.size)*10\n",
    "pl.clf()\n",
    "pl.plot(t,z)\n",
    "pl.plot(t,noisy_z,'k.')\n",
    "\n",
    "noisy_y = np.log(noisy_z)\n",
    "pl.clf()\n",
    "pl.plot(x,y)\n",
    "pl.plot(x,noisy_y,'k.')\n",
    "pl.ylabel(\"log(z)\")\n",
    "pl.xlabel(\"log(t)\")\n",
    "\n"
   ]
  },
  {
   "cell_type": "code",
   "execution_count": 19,
   "metadata": {},
   "outputs": [
    {
     "data": {
      "image/png": "[encoded data removed]",
      "text/plain": [
       "<Figure size 432x288 with 1 Axes>"
      ]
     },
     "metadata": {},
     "output_type": "display_data"
    }
   ],
   "source": [
    "from scipy.stats import powerlaw\n",
    "import matplotlib.pyplot as plt\n",
    "fig, ax = plt.subplots(1, 1)\n",
    "\n",
    "a = 1.66\n",
    "mean, var, skew, kurt = powerlaw.stats(a, moments='mvsk')\n",
    "\n",
    "# x = np.linspace(powerlaw.ppf(0.01, a),\n",
    "#                 powerlaw.ppf(0.99, a), 100)\n",
    "# ax.plot(x, powerlaw.pdf(x, a),\n",
    "#        'r-', lw=5, alpha=0.6, label='powerlaw pdf')\n",
    "\n",
    "rv = powerlaw(a)\n",
    "ax.plot(x, rv.pdf(x), 'k-', lw=2, label='frozen pdf')\n",
    "\n",
    "# vals = powerlaw.ppf([0.001, 0.5, 0.999], a)\n",
    "# np.allclose([0.001, 0.5, 0.999], powerlaw.cdf(vals, a))\n",
    "\n",
    "# r = powerlaw.rvs(a, size=1000)\n",
    "\n",
    "# ax.hist(r, density=True, histtype='stepfilled', alpha=0.2)\n",
    "# ax.legend(loc='best', frameon=False)\n",
    "plt.show()"
   ]
  },
  {
   "cell_type": "code",
   "execution_count": null,
   "metadata": {},
   "outputs": [],
   "source": []
  },
  {
   "cell_type": "code",
   "execution_count": null,
   "metadata": {},
   "outputs": [],
   "source": []
  },
  {
   "cell_type": "code",
   "execution_count": 18,
   "metadata": {},
   "outputs": [
    {
     "name": "stdout",
     "output_type": "stream",
     "text": [
      "[ 2.04882419  1.71500398         nan  0.74792536 -4.78804201         nan\n",
      "  0.96090688  2.59505687         nan  2.14048187  2.15221369  1.42614195\n",
      "  2.87705513  1.94405064  2.66489471  3.56906426  3.65706348  3.26114125\n",
      "  3.7206415   3.9905804   3.82924952  4.03714451  4.37656617  4.24496824\n",
      "  4.47404509  4.31084002  4.66037973  4.58924989  4.64480954  4.85314634\n",
      "  4.90845653  4.91160331  5.19596544  5.16478073  5.26902318  5.38639234\n",
      "  5.31939458  5.50714029  5.57735929  5.58143455  5.69153716  5.75592318\n",
      "  5.77758301  5.83362502  5.86663133  5.92345706  6.0402596   6.06770453\n",
      "  6.1438296   6.16092726]\n"
     ]
    },
    {
     "name": "stderr",
     "output_type": "stream",
     "text": [
      "/anaconda3/lib/python3.6/site-packages/ipykernel_launcher.py:21: RuntimeWarning: invalid value encountered in log\n"
     ]
    },
    {
     "ename": "NameError",
     "evalue": "name 'masked_noisy_y' is not defined",
     "output_type": "error",
     "traceback": [
      "\u001b[0;31m---------------------------------------------------------------------------\u001b[0m",
      "\u001b[0;31mNameError\u001b[0m                                 Traceback (most recent call last)",
      "\u001b[0;32m<ipython-input-18-36ef9eb4dc5d>\u001b[0m in \u001b[0;36m<module>\u001b[0;34m()\u001b[0m\n\u001b[1;32m     38\u001b[0m \u001b[0;34m\u001b[0m\u001b[0m\n\u001b[1;32m     39\u001b[0m \u001b[0;34m\u001b[0m\u001b[0m\n\u001b[0;32m---> 40\u001b[0;31m \u001b[0mpars\u001b[0m \u001b[0;34m=\u001b[0m \u001b[0mnp\u001b[0m\u001b[0;34m.\u001b[0m\u001b[0mpolyfit\u001b[0m\u001b[0;34m(\u001b[0m\u001b[0mmasked_x\u001b[0m\u001b[0;34m,\u001b[0m\u001b[0mmasked_noisy_y\u001b[0m\u001b[0;34m,\u001b[0m\u001b[0;36m1\u001b[0m\u001b[0;34m)\u001b[0m\u001b[0;34m\u001b[0m\u001b[0m\n\u001b[0m\u001b[1;32m     41\u001b[0m \u001b[0;34m\u001b[0m\u001b[0m\n\u001b[1;32m     42\u001b[0m \u001b[0mfitted_y\u001b[0m \u001b[0;34m=\u001b[0m \u001b[0mnp\u001b[0m\u001b[0;34m.\u001b[0m\u001b[0mpolyval\u001b[0m\u001b[0;34m(\u001b[0m\u001b[0mpars\u001b[0m\u001b[0;34m,\u001b[0m\u001b[0mx\u001b[0m\u001b[0;34m)\u001b[0m\u001b[0;34m\u001b[0m\u001b[0m\n",
      "\u001b[0;31mNameError\u001b[0m: name 'masked_noisy_y' is not defined"
     ]
    },
    {
     "data": {
      "image/png": "[encoded data removed]",
      "text/plain": [
       "<Figure size 432x288 with 1 Axes>"
      ]
     },
     "metadata": {},
     "output_type": "display_data"
    }
   ],
   "source": [
    "import matplotlib.pyplot as plt\n",
    "import matplotlib.patches as mpatches\n",
    "import numpy as np\n",
    "from scipy.stats import powerlaw\n",
    "import pylab as pl\n",
    "\n",
    "\n",
    "t = np.linspace(0.1,10)  \n",
    "a = 1.5\n",
    "b = 2.5\n",
    "z = a*t**b \n",
    "\n",
    "y = np.log(z)\n",
    "x = np.log(t)\n",
    "\n",
    "noisy_z = z + pl.randn(z.size)*10\n",
    "pl.clf()\n",
    "pl.plot(t,z)\n",
    "pl.plot(t,noisy_z,'k.')\n",
    "\n",
    "noisy_y = np.log(noisy_z)\n",
    "pl.clf()\n",
    "pl.plot(x,y)\n",
    "pl.plot(x,noisy_y,'k.')\n",
    "pl.ylabel(\"log(z)\")\n",
    "pl.xlabel(\"log(t)\")\n",
    "\n",
    "\n",
    "print( noisy_y)\n",
    "\n",
    "\n",
    "\n",
    "\n",
    "OK = noisy_y == noisy_y\n",
    "\n",
    "masked_x = x[OK]\n",
    "\n",
    "\n",
    "\n",
    "pars = np.polyfit(masked_x,masked_noisy_y,1)\n",
    "\n",
    "fitted_y = np.polyval(pars,x)\n",
    "\n",
    "\n",
    "fitted_z = np.exp(fitted_y)\n",
    "pl.clf()\n",
    "pl.plot(t,z)\n",
    "pl.plot(t,noisy_z,'k.')\n",
    "pl.plot(t,fitted_z,'r--')\n",
    "pl.xlabel('t')\n",
    "pl.ylabel('z')\n",
    "\n"
   ]
  },
  {
   "cell_type": "code",
   "execution_count": null,
   "metadata": {},
   "outputs": [],
   "source": []
  },
  {
   "cell_type": "code",
   "execution_count": null,
   "metadata": {},
   "outputs": [],
   "source": []
  }
 ],
 "metadata": {
  "kernelspec": {
   "display_name": "Python 3",
   "language": "python",
   "name": "python3"
  },
  "language_info": {
   "codemirror_mode": {
    "name": "ipython",
    "version": 3
   },
   "file_extension": ".py",
   "mimetype": "text/x-python",
   "name": "python",
   "nbconvert_exporter": "python",
   "pygments_lexer": "ipython3",
   "version": "3.6.5"
  }
 },
 "nbformat": 4,
 "nbformat_minor": 2
}
